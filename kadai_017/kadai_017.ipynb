{
  "nbformat": 4,
  "nbformat_minor": 0,
  "metadata": {
    "colab": {
      "provenance": []
    },
    "kernelspec": {
      "name": "python3",
      "display_name": "Python 3"
    },
    "language_info": {
      "name": "python"
    }
  },
  "cells": [
    {
      "cell_type": "code",
      "execution_count": 1,
      "metadata": {
        "colab": {
          "base_uri": "https://localhost:8080/"
        },
        "id": "7S6wzsYcybZU",
        "outputId": "49a14bca-c080-49aa-c0fa-332dd08091df"
      },
      "outputs": [
        {
          "output_type": "stream",
          "name": "stdout",
          "text": [
            "山田太郎は大人です\n",
            "佐藤花子は大人ではありません\n",
            "鈴木次郎は大人です\n"
          ]
        }
      ],
      "source": [
        "class Human:\n",
        "    def __init__(self, name, age):\n",
        "        self.name = name\n",
        "        self.age = age\n",
        "\n",
        "    def check_adult(self):\n",
        "        if self.age >= 20:\n",
        "            print(f\"{self.name}は大人です\")\n",
        "        else:\n",
        "            print(f\"{self.name}は大人ではありません\")\n",
        "\n",
        "# Humanクラスのインスタンスを生成してリストに追加\n",
        "humans = [\n",
        "    Human(\"山田太郎\", 25),\n",
        "    Human(\"佐藤花子\", 17),\n",
        "    Human(\"鈴木次郎\", 20)\n",
        "]\n",
        "\n",
        "# リストの要素数分だけcheck_adultメソッドを呼び出す\n",
        "for human in humans:\n",
        "    human.check_adult()"
      ]
    }
  ]
}