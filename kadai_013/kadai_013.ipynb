{
  "nbformat": 4,
  "nbformat_minor": 0,
  "metadata": {
    "colab": {
      "provenance": []
    },
    "kernelspec": {
      "name": "python3",
      "display_name": "Python 3"
    },
    "language_info": {
      "name": "python"
    }
  },
  "cells": [
    {
      "cell_type": "code",
      "execution_count": 7,
      "metadata": {
        "colab": {
          "base_uri": "https://localhost:8080/"
        },
        "id": "ipT_fHj9-H8h",
        "outputId": "588f9701-c277-4a79-de75-5e82cd2c092a"
      },
      "outputs": [
        {
          "output_type": "stream",
          "name": "stdout",
          "text": [
            "121.0円\n"
          ]
        }
      ],
      "source": [
        "def calculate_tax(price, tax_rate):\n",
        "    result = price + (price * tax_rate / 100)\n",
        "    print(f\"{result}円\")\n",
        "calculate_tax(110, 10)"
      ]
    }
  ]
}