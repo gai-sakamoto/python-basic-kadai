{
  "nbformat": 4,
  "nbformat_minor": 0,
  "metadata": {
    "colab": {
      "provenance": []
    },
    "kernelspec": {
      "name": "python3",
      "display_name": "Python 3"
    },
    "language_info": {
      "name": "python"
    }
  },
  "cells": [
    {
      "cell_type": "code",
      "execution_count": 9,
      "metadata": {
        "colab": {
          "base_uri": "https://localhost:8080/"
        },
        "id": "ipT_fHj9-H8h",
        "outputId": "0cfc12c1-3146-4b4e-867f-44eca399da89"
      },
      "outputs": [
        {
          "output_type": "stream",
          "name": "stdout",
          "text": [
            "121.0円\n"
          ]
        }
      ],
      "source": [
        "def calculate_tax(price, tax_rate):\n",
        "    result = price + (price * tax_rate / 100)\n",
        "    return result\n",
        "total_price = calculate_tax(110, 10)\n",
        "print(f\"{total_price}円\")"
      ]
    }
  ]
}