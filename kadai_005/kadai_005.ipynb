{
  "nbformat": 4,
  "nbformat_minor": 0,
  "metadata": {
    "colab": {
      "provenance": [],
      "toc_visible": true
    },
    "kernelspec": {
      "name": "python3",
      "display_name": "Python 3"
    },
    "language_info": {
      "name": "python"
    }
  },
  "cells": [
    {
      "cell_type": "code",
      "execution_count": 3,
      "metadata": {
        "colab": {
          "base_uri": "https://localhost:8080/"
        },
        "id": "lp-5sLSntXAD",
        "outputId": "c9d11cb8-aad7-4d7e-b5a0-7cdfad9bae50"
      },
      "outputs": [
        {
          "output_type": "stream",
          "name": "stdout",
          "text": [
            "75.0c㎡\n"
          ]
        }
      ],
      "source": [
        "top_base = 10  # 上辺（cm）\n",
        "bottom_base = 20  # 下辺（cm）\n",
        "height = 5  # 高さ（cm）\n",
        "result = (top_base+bottom_base)*height/2\n",
        "print(f\"{result}c㎡\")"
      ]
    }
  ]
}