{
  "nbformat": 4,
  "nbformat_minor": 0,
  "metadata": {
    "colab": {
      "provenance": [],
      "toc_visible": true
    },
    "kernelspec": {
      "name": "python3",
      "display_name": "Python 3"
    },
    "language_info": {
      "name": "python"
    }
  },
  "cells": [
    {
      "cell_type": "code",
      "execution_count": 4,
      "metadata": {
        "colab": {
          "base_uri": "https://localhost:8080/"
        },
        "id": "lp-5sLSntXAD",
        "outputId": "9938d65a-be2f-472a-cfb2-7b0179b25310"
      },
      "outputs": [
        {
          "output_type": "stream",
          "name": "stdout",
          "text": [
            "75.0cm²\n"
          ]
        }
      ],
      "source": [
        "top_base = 10  # 上辺（cm）\n",
        "bottom_base = 20  # 下辺（cm）\n",
        "height = 5  # 高さ（cm）\n",
        "result = (top_base+bottom_base)*height/2\n",
        "print(f\"{result}cm²\")"
      ]
    }
  ]
}